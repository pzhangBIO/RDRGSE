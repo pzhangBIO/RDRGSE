{
 "cells": [
  {
   "cell_type": "code",
   "execution_count": null,
   "metadata": {},
   "outputs": [
    {
     "ename": "",
     "evalue": "",
     "output_type": "error",
     "traceback": [
      "\u001B[1;31mFailed to start the Kernel. \n",
      "\u001B[1;31mAttributeError: module 'select' has no attribute 'select'. \n",
      "\u001B[1;31mView Jupyter <a href='command:jupyter.viewOutput'>log</a> for further details."
     ]
    }
   ],
   "source": [
    "import numpy as np\n",
    "from sklearn.metrics.pairwise import cosine_similarity as cos\n",
    "import scipy.sparse as sp\n",
    "from scipy.linalg import fractional_matrix_power, inv\n",
    "import pandas as pd\n",
    "import random"
   ]
  },
  {
   "cell_type": "code",
   "execution_count": null,
   "metadata": {},
   "outputs": [],
   "source": []
  },
  {
   "cell_type": "code",
   "execution_count": 2,
   "metadata": {},
   "outputs": [],
   "source": [
    "ass=pd.read_csv('AssociationMatrix.csv',header=None).values\n",
    "pi_net=pd.read_csv('touying_ncrna.csv',header=None).values\n",
    "dis_net=pd.read_csv('touying_drug.csv',header=None).values"
   ]
  },
  {
   "cell_type": "code",
   "execution_count": 3,
   "metadata": {},
   "outputs": [],
   "source": [
    "def construct_adj(adj,pi,dis):\n",
    "    mat1=np.hstack((pi,adj))\n",
    "    mat2=np.hstack((adj.T,dis))\n",
    "    mat=np.vstack((mat1,mat2))\n",
    "    return mat"
   ]
  },
  {
   "cell_type": "code",
   "execution_count": 4,
   "metadata": {},
   "outputs": [],
   "source": [
    "adj_raw=construct_adj(ass,pi_net,dis_net)"
   ]
  },
  {
   "cell_type": "code",
   "execution_count": 5,
   "metadata": {},
   "outputs": [
    {
     "data": {
      "text/plain": [
       "(746, 746)"
      ]
     },
     "execution_count": 5,
     "metadata": {},
     "output_type": "execute_result"
    }
   ],
   "source": [
    "adj_raw.shape"
   ]
  },
  {
   "cell_type": "code",
   "execution_count": 6,
   "metadata": {},
   "outputs": [
    {
     "ename": "FileNotFoundError",
     "evalue": "[Errno 2] No such file or directory: 'Final_pi_sim_Feature.csv'",
     "output_type": "error",
     "traceback": [
      "\u001B[0;31m---------------------------------------------------------------------------\u001B[0m",
      "\u001B[0;31mFileNotFoundError\u001B[0m                         Traceback (most recent call last)",
      "\u001B[0;32m/tmp/ipykernel_7974/1185507638.py\u001B[0m in \u001B[0;36m<module>\u001B[0;34m\u001B[0m\n\u001B[0;32m----> 1\u001B[0;31m \u001B[0mpi_feat\u001B[0m\u001B[0;34m=\u001B[0m\u001B[0mpd\u001B[0m\u001B[0;34m.\u001B[0m\u001B[0mread_csv\u001B[0m\u001B[0;34m(\u001B[0m\u001B[0;34m'Final_pi_sim_Feature.csv'\u001B[0m\u001B[0;34m,\u001B[0m\u001B[0mheader\u001B[0m\u001B[0;34m=\u001B[0m\u001B[0;32mNone\u001B[0m\u001B[0;34m)\u001B[0m\u001B[0;34m\u001B[0m\u001B[0;34m\u001B[0m\u001B[0m\n\u001B[0m\u001B[1;32m      2\u001B[0m \u001B[0mdis_feat\u001B[0m\u001B[0;34m=\u001B[0m\u001B[0mpd\u001B[0m\u001B[0;34m.\u001B[0m\u001B[0mread_csv\u001B[0m\u001B[0;34m(\u001B[0m\u001B[0;34m'Final_dis_sim_Feature.csv'\u001B[0m\u001B[0;34m,\u001B[0m\u001B[0mheader\u001B[0m\u001B[0;34m=\u001B[0m\u001B[0;32mNone\u001B[0m\u001B[0;34m)\u001B[0m\u001B[0;34m\u001B[0m\u001B[0;34m\u001B[0m\u001B[0m\n",
      "\u001B[0;32m~/.conda/envs/pyg/lib/python3.7/site-packages/pandas/util/_decorators.py\u001B[0m in \u001B[0;36mwrapper\u001B[0;34m(*args, **kwargs)\u001B[0m\n\u001B[1;32m    309\u001B[0m                     \u001B[0mstacklevel\u001B[0m\u001B[0;34m=\u001B[0m\u001B[0mstacklevel\u001B[0m\u001B[0;34m,\u001B[0m\u001B[0;34m\u001B[0m\u001B[0;34m\u001B[0m\u001B[0m\n\u001B[1;32m    310\u001B[0m                 )\n\u001B[0;32m--> 311\u001B[0;31m             \u001B[0;32mreturn\u001B[0m \u001B[0mfunc\u001B[0m\u001B[0;34m(\u001B[0m\u001B[0;34m*\u001B[0m\u001B[0margs\u001B[0m\u001B[0;34m,\u001B[0m \u001B[0;34m**\u001B[0m\u001B[0mkwargs\u001B[0m\u001B[0;34m)\u001B[0m\u001B[0;34m\u001B[0m\u001B[0;34m\u001B[0m\u001B[0m\n\u001B[0m\u001B[1;32m    312\u001B[0m \u001B[0;34m\u001B[0m\u001B[0m\n\u001B[1;32m    313\u001B[0m         \u001B[0;32mreturn\u001B[0m \u001B[0mwrapper\u001B[0m\u001B[0;34m\u001B[0m\u001B[0;34m\u001B[0m\u001B[0m\n",
      "\u001B[0;32m~/.conda/envs/pyg/lib/python3.7/site-packages/pandas/io/parsers/readers.py\u001B[0m in \u001B[0;36mread_csv\u001B[0;34m(filepath_or_buffer, sep, delimiter, header, names, index_col, usecols, squeeze, prefix, mangle_dupe_cols, dtype, engine, converters, true_values, false_values, skipinitialspace, skiprows, skipfooter, nrows, na_values, keep_default_na, na_filter, verbose, skip_blank_lines, parse_dates, infer_datetime_format, keep_date_col, date_parser, dayfirst, cache_dates, iterator, chunksize, compression, thousands, decimal, lineterminator, quotechar, quoting, doublequote, escapechar, comment, encoding, encoding_errors, dialect, error_bad_lines, warn_bad_lines, on_bad_lines, delim_whitespace, low_memory, memory_map, float_precision, storage_options)\u001B[0m\n\u001B[1;32m    584\u001B[0m     \u001B[0mkwds\u001B[0m\u001B[0;34m.\u001B[0m\u001B[0mupdate\u001B[0m\u001B[0;34m(\u001B[0m\u001B[0mkwds_defaults\u001B[0m\u001B[0;34m)\u001B[0m\u001B[0;34m\u001B[0m\u001B[0;34m\u001B[0m\u001B[0m\n\u001B[1;32m    585\u001B[0m \u001B[0;34m\u001B[0m\u001B[0m\n\u001B[0;32m--> 586\u001B[0;31m     \u001B[0;32mreturn\u001B[0m \u001B[0m_read\u001B[0m\u001B[0;34m(\u001B[0m\u001B[0mfilepath_or_buffer\u001B[0m\u001B[0;34m,\u001B[0m \u001B[0mkwds\u001B[0m\u001B[0;34m)\u001B[0m\u001B[0;34m\u001B[0m\u001B[0;34m\u001B[0m\u001B[0m\n\u001B[0m\u001B[1;32m    587\u001B[0m \u001B[0;34m\u001B[0m\u001B[0m\n\u001B[1;32m    588\u001B[0m \u001B[0;34m\u001B[0m\u001B[0m\n",
      "\u001B[0;32m~/.conda/envs/pyg/lib/python3.7/site-packages/pandas/io/parsers/readers.py\u001B[0m in \u001B[0;36m_read\u001B[0;34m(filepath_or_buffer, kwds)\u001B[0m\n\u001B[1;32m    480\u001B[0m \u001B[0;34m\u001B[0m\u001B[0m\n\u001B[1;32m    481\u001B[0m     \u001B[0;31m# Create the parser.\u001B[0m\u001B[0;34m\u001B[0m\u001B[0;34m\u001B[0m\u001B[0;34m\u001B[0m\u001B[0m\n\u001B[0;32m--> 482\u001B[0;31m     \u001B[0mparser\u001B[0m \u001B[0;34m=\u001B[0m \u001B[0mTextFileReader\u001B[0m\u001B[0;34m(\u001B[0m\u001B[0mfilepath_or_buffer\u001B[0m\u001B[0;34m,\u001B[0m \u001B[0;34m**\u001B[0m\u001B[0mkwds\u001B[0m\u001B[0;34m)\u001B[0m\u001B[0;34m\u001B[0m\u001B[0;34m\u001B[0m\u001B[0m\n\u001B[0m\u001B[1;32m    483\u001B[0m \u001B[0;34m\u001B[0m\u001B[0m\n\u001B[1;32m    484\u001B[0m     \u001B[0;32mif\u001B[0m \u001B[0mchunksize\u001B[0m \u001B[0;32mor\u001B[0m \u001B[0miterator\u001B[0m\u001B[0;34m:\u001B[0m\u001B[0;34m\u001B[0m\u001B[0;34m\u001B[0m\u001B[0m\n",
      "\u001B[0;32m~/.conda/envs/pyg/lib/python3.7/site-packages/pandas/io/parsers/readers.py\u001B[0m in \u001B[0;36m__init__\u001B[0;34m(self, f, engine, **kwds)\u001B[0m\n\u001B[1;32m    809\u001B[0m             \u001B[0mself\u001B[0m\u001B[0;34m.\u001B[0m\u001B[0moptions\u001B[0m\u001B[0;34m[\u001B[0m\u001B[0;34m\"has_index_names\"\u001B[0m\u001B[0;34m]\u001B[0m \u001B[0;34m=\u001B[0m \u001B[0mkwds\u001B[0m\u001B[0;34m[\u001B[0m\u001B[0;34m\"has_index_names\"\u001B[0m\u001B[0;34m]\u001B[0m\u001B[0;34m\u001B[0m\u001B[0;34m\u001B[0m\u001B[0m\n\u001B[1;32m    810\u001B[0m \u001B[0;34m\u001B[0m\u001B[0m\n\u001B[0;32m--> 811\u001B[0;31m         \u001B[0mself\u001B[0m\u001B[0;34m.\u001B[0m\u001B[0m_engine\u001B[0m \u001B[0;34m=\u001B[0m \u001B[0mself\u001B[0m\u001B[0;34m.\u001B[0m\u001B[0m_make_engine\u001B[0m\u001B[0;34m(\u001B[0m\u001B[0mself\u001B[0m\u001B[0;34m.\u001B[0m\u001B[0mengine\u001B[0m\u001B[0;34m)\u001B[0m\u001B[0;34m\u001B[0m\u001B[0;34m\u001B[0m\u001B[0m\n\u001B[0m\u001B[1;32m    812\u001B[0m \u001B[0;34m\u001B[0m\u001B[0m\n\u001B[1;32m    813\u001B[0m     \u001B[0;32mdef\u001B[0m \u001B[0mclose\u001B[0m\u001B[0;34m(\u001B[0m\u001B[0mself\u001B[0m\u001B[0;34m)\u001B[0m\u001B[0;34m:\u001B[0m\u001B[0;34m\u001B[0m\u001B[0;34m\u001B[0m\u001B[0m\n",
      "\u001B[0;32m~/.conda/envs/pyg/lib/python3.7/site-packages/pandas/io/parsers/readers.py\u001B[0m in \u001B[0;36m_make_engine\u001B[0;34m(self, engine)\u001B[0m\n\u001B[1;32m   1038\u001B[0m             )\n\u001B[1;32m   1039\u001B[0m         \u001B[0;31m# error: Too many arguments for \"ParserBase\"\u001B[0m\u001B[0;34m\u001B[0m\u001B[0;34m\u001B[0m\u001B[0;34m\u001B[0m\u001B[0m\n\u001B[0;32m-> 1040\u001B[0;31m         \u001B[0;32mreturn\u001B[0m \u001B[0mmapping\u001B[0m\u001B[0;34m[\u001B[0m\u001B[0mengine\u001B[0m\u001B[0;34m]\u001B[0m\u001B[0;34m(\u001B[0m\u001B[0mself\u001B[0m\u001B[0;34m.\u001B[0m\u001B[0mf\u001B[0m\u001B[0;34m,\u001B[0m \u001B[0;34m**\u001B[0m\u001B[0mself\u001B[0m\u001B[0;34m.\u001B[0m\u001B[0moptions\u001B[0m\u001B[0;34m)\u001B[0m  \u001B[0;31m# type: ignore[call-arg]\u001B[0m\u001B[0;34m\u001B[0m\u001B[0;34m\u001B[0m\u001B[0m\n\u001B[0m\u001B[1;32m   1041\u001B[0m \u001B[0;34m\u001B[0m\u001B[0m\n\u001B[1;32m   1042\u001B[0m     \u001B[0;32mdef\u001B[0m \u001B[0m_failover_to_python\u001B[0m\u001B[0;34m(\u001B[0m\u001B[0mself\u001B[0m\u001B[0;34m)\u001B[0m\u001B[0;34m:\u001B[0m\u001B[0;34m\u001B[0m\u001B[0;34m\u001B[0m\u001B[0m\n",
      "\u001B[0;32m~/.conda/envs/pyg/lib/python3.7/site-packages/pandas/io/parsers/c_parser_wrapper.py\u001B[0m in \u001B[0;36m__init__\u001B[0;34m(self, src, **kwds)\u001B[0m\n\u001B[1;32m     49\u001B[0m \u001B[0;34m\u001B[0m\u001B[0m\n\u001B[1;32m     50\u001B[0m         \u001B[0;31m# open handles\u001B[0m\u001B[0;34m\u001B[0m\u001B[0;34m\u001B[0m\u001B[0;34m\u001B[0m\u001B[0m\n\u001B[0;32m---> 51\u001B[0;31m         \u001B[0mself\u001B[0m\u001B[0;34m.\u001B[0m\u001B[0m_open_handles\u001B[0m\u001B[0;34m(\u001B[0m\u001B[0msrc\u001B[0m\u001B[0;34m,\u001B[0m \u001B[0mkwds\u001B[0m\u001B[0;34m)\u001B[0m\u001B[0;34m\u001B[0m\u001B[0;34m\u001B[0m\u001B[0m\n\u001B[0m\u001B[1;32m     52\u001B[0m         \u001B[0;32massert\u001B[0m \u001B[0mself\u001B[0m\u001B[0;34m.\u001B[0m\u001B[0mhandles\u001B[0m \u001B[0;32mis\u001B[0m \u001B[0;32mnot\u001B[0m \u001B[0;32mNone\u001B[0m\u001B[0;34m\u001B[0m\u001B[0;34m\u001B[0m\u001B[0m\n\u001B[1;32m     53\u001B[0m \u001B[0;34m\u001B[0m\u001B[0m\n",
      "\u001B[0;32m~/.conda/envs/pyg/lib/python3.7/site-packages/pandas/io/parsers/base_parser.py\u001B[0m in \u001B[0;36m_open_handles\u001B[0;34m(self, src, kwds)\u001B[0m\n\u001B[1;32m    227\u001B[0m             \u001B[0mmemory_map\u001B[0m\u001B[0;34m=\u001B[0m\u001B[0mkwds\u001B[0m\u001B[0;34m.\u001B[0m\u001B[0mget\u001B[0m\u001B[0;34m(\u001B[0m\u001B[0;34m\"memory_map\"\u001B[0m\u001B[0;34m,\u001B[0m \u001B[0;32mFalse\u001B[0m\u001B[0;34m)\u001B[0m\u001B[0;34m,\u001B[0m\u001B[0;34m\u001B[0m\u001B[0;34m\u001B[0m\u001B[0m\n\u001B[1;32m    228\u001B[0m             \u001B[0mstorage_options\u001B[0m\u001B[0;34m=\u001B[0m\u001B[0mkwds\u001B[0m\u001B[0;34m.\u001B[0m\u001B[0mget\u001B[0m\u001B[0;34m(\u001B[0m\u001B[0;34m\"storage_options\"\u001B[0m\u001B[0;34m,\u001B[0m \u001B[0;32mNone\u001B[0m\u001B[0;34m)\u001B[0m\u001B[0;34m,\u001B[0m\u001B[0;34m\u001B[0m\u001B[0;34m\u001B[0m\u001B[0m\n\u001B[0;32m--> 229\u001B[0;31m             \u001B[0merrors\u001B[0m\u001B[0;34m=\u001B[0m\u001B[0mkwds\u001B[0m\u001B[0;34m.\u001B[0m\u001B[0mget\u001B[0m\u001B[0;34m(\u001B[0m\u001B[0;34m\"encoding_errors\"\u001B[0m\u001B[0;34m,\u001B[0m \u001B[0;34m\"strict\"\u001B[0m\u001B[0;34m)\u001B[0m\u001B[0;34m,\u001B[0m\u001B[0;34m\u001B[0m\u001B[0;34m\u001B[0m\u001B[0m\n\u001B[0m\u001B[1;32m    230\u001B[0m         )\n\u001B[1;32m    231\u001B[0m \u001B[0;34m\u001B[0m\u001B[0m\n",
      "\u001B[0;32m~/.conda/envs/pyg/lib/python3.7/site-packages/pandas/io/common.py\u001B[0m in \u001B[0;36mget_handle\u001B[0;34m(path_or_buf, mode, encoding, compression, memory_map, is_text, errors, storage_options)\u001B[0m\n\u001B[1;32m    704\u001B[0m                 \u001B[0mencoding\u001B[0m\u001B[0;34m=\u001B[0m\u001B[0mioargs\u001B[0m\u001B[0;34m.\u001B[0m\u001B[0mencoding\u001B[0m\u001B[0;34m,\u001B[0m\u001B[0;34m\u001B[0m\u001B[0;34m\u001B[0m\u001B[0m\n\u001B[1;32m    705\u001B[0m                 \u001B[0merrors\u001B[0m\u001B[0;34m=\u001B[0m\u001B[0merrors\u001B[0m\u001B[0;34m,\u001B[0m\u001B[0;34m\u001B[0m\u001B[0;34m\u001B[0m\u001B[0m\n\u001B[0;32m--> 706\u001B[0;31m                 \u001B[0mnewline\u001B[0m\u001B[0;34m=\u001B[0m\u001B[0;34m\"\"\u001B[0m\u001B[0;34m,\u001B[0m\u001B[0;34m\u001B[0m\u001B[0;34m\u001B[0m\u001B[0m\n\u001B[0m\u001B[1;32m    707\u001B[0m             )\n\u001B[1;32m    708\u001B[0m         \u001B[0;32melse\u001B[0m\u001B[0;34m:\u001B[0m\u001B[0;34m\u001B[0m\u001B[0;34m\u001B[0m\u001B[0m\n",
      "\u001B[0;31mFileNotFoundError\u001B[0m: [Errno 2] No such file or directory: 'Final_pi_sim_Feature.csv'"
     ]
    }
   ],
   "source": [
    "pi_feat=pd.read_csv('Final_pi_sim_Feature.csv',header=None)\n",
    "dis_feat=pd.read_csv('Final_dis_sim_Feature.csv',header=None)\n"
   ]
  },
  {
   "cell_type": "code",
   "execution_count": 15,
   "metadata": {},
   "outputs": [],
   "source": [
    "featue=pd.concat([pi_feat,dis_feat],axis=0,ignore_index=True).values"
   ]
  },
  {
   "cell_type": "code",
   "execution_count": 9,
   "metadata": {},
   "outputs": [],
   "source": [
    "featue=pd.read_csv('node2vec_drug_mi.csv',header=None).values"
   ]
  },
  {
   "cell_type": "code",
   "execution_count": null,
   "metadata": {},
   "outputs": [],
   "source": [
    "#####存为npz"
   ]
  },
  {
   "cell_type": "code",
   "execution_count": 10,
   "metadata": {},
   "outputs": [],
   "source": [
    "adj_raw=sp.csc_matrix(adj_raw)\n",
    "sp.save_npz('ori_adj.npz', adj_raw)\n"
   ]
  },
  {
   "cell_type": "code",
   "execution_count": 11,
   "metadata": {},
   "outputs": [],
   "source": [
    "featue=sp.csc_matrix(featue)\n",
    "sp.save_npz('feat.npz', featue)"
   ]
  },
  {
   "cell_type": "code",
   "execution_count": 13,
   "metadata": {},
   "outputs": [
    {
     "name": "stdout",
     "output_type": "stream",
     "text": [
      "  (627, 0)\t1.0\n",
      "  (628, 0)\t1.0\n",
      "  (629, 0)\t1.0\n",
      "  (625, 1)\t1.0\n",
      "  (630, 1)\t1.0\n",
      "  (625, 2)\t1.0\n",
      "  (634, 2)\t1.0\n",
      "  (635, 2)\t1.0\n",
      "  (636, 2)\t1.0\n",
      "  (632, 3)\t1.0\n",
      "  (637, 3)\t1.0\n",
      "  (177, 4)\t1.0\n",
      "  (182, 4)\t1.0\n",
      "  (261, 4)\t1.0\n",
      "  (625, 4)\t1.0\n",
      "  (638, 4)\t1.0\n",
      "  (639, 4)\t1.0\n",
      "  (640, 4)\t1.0\n",
      "  (625, 5)\t1.0\n",
      "  (635, 5)\t1.0\n",
      "  (641, 5)\t1.0\n",
      "  (625, 6)\t1.0\n",
      "  (634, 6)\t1.0\n",
      "  (642, 6)\t1.0\n",
      "  (625, 7)\t1.0\n",
      "  :\t:\n",
      "  (243, 728)\t1.0\n",
      "  (222, 729)\t1.0\n",
      "  (222, 730)\t1.0\n",
      "  (222, 731)\t1.0\n",
      "  (231, 732)\t1.0\n",
      "  (231, 733)\t1.0\n",
      "  (235, 734)\t1.0\n",
      "  (239, 735)\t1.0\n",
      "  (241, 736)\t1.0\n",
      "  (475, 736)\t1.0\n",
      "  (243, 737)\t1.0\n",
      "  (245, 737)\t1.0\n",
      "  (243, 738)\t1.0\n",
      "  (245, 738)\t1.0\n",
      "  (247, 739)\t1.0\n",
      "  (247, 740)\t1.0\n",
      "  (250, 740)\t1.0\n",
      "  (578, 740)\t1.0\n",
      "  (248, 741)\t1.0\n",
      "  (250, 741)\t1.0\n",
      "  (260, 742)\t1.0\n",
      "  (414, 742)\t1.0\n",
      "  (270, 743)\t1.0\n",
      "  (319, 744)\t1.0\n",
      "  (521, 745)\t1.0\n"
     ]
    }
   ],
   "source": [
    "import numpy as np\n",
    "from sklearn.metrics.pairwise import cosine_similarity as cos\n",
    "import scipy.sparse as sp\n",
    "from scipy.linalg import fractional_matrix_power, inv\n",
    "\n",
    "\n",
    "def knn(feat, num_node, k, data_name, view_name):\n",
    "    adj = np.zeros((num_node, num_node), dtype=np.int64)\n",
    "    dist = cos(feat)\n",
    "    col = np.argpartition(dist, -(k + 1), axis=1)[:, -(k + 1):].flatten()\n",
    "    adj[np.arange(num_node).repeat(k + 1), col] = 1  \n",
    "    adj = sp.coo_matrix(adj)\n",
    "    sp.save_npz(view_name+\"_knn.npz\", adj)\n",
    "\n",
    "\n",
    "def adj(adj, data_name, view_name):\n",
    "    adj = sp.coo_matrix(adj)\n",
    "    sp.save_npz(view_name+\"_adj.npz\", adj)\n",
    "\n",
    "\n",
    "def diff(adj, alpha, data_name, view_name):   \n",
    "    d = np.diag(np.sum(adj, 1))                                    \n",
    "    dinv = fractional_matrix_power(d, -0.5)                       \n",
    "    at = np.matmul(np.matmul(dinv, adj), dinv)                      \n",
    "    adj = alpha * inv((np.eye(adj.shape[0]) - (1 - alpha) * at))   \n",
    "    adj = sp.coo_matrix(adj)\n",
    "    sp.save_npz(view_name+\"_diff.npz\", adj)\n",
    "\n",
    "data_name = \"ncrna\"\n",
    "view_name = \"v2\"  # v1 or v2\n",
    "view_type = \"knn\"  # knn adj diff\n",
    "\n",
    "adj = sp.load_npz(\"ori_adj.npz\")####\n",
    "print(adj)\n",
    "adj.toarray()\n",
    "num_node = adj.shape[0]\n",
    "feat = sp.load_npz(\"feat.npz\")\n",
    "feat\n",
    "\n",
    "a = adj.A\n",
    "\n",
    "# if a[0, 0] == 0:\n",
    "#     a += np.eye(num_node)\n",
    "#     print(\"self-loop!\")\n",
    "adj = a\n",
    "view_type = \"diff\" \n",
    "alpha=0.1\n",
    "if view_type == \"knn\":  # set k\n",
    "    knn(feat, num_node, 5, data_name, view_name)\n",
    "elif view_type == \"adj\":\n",
    "    adj(adj, data_name, view_name)\n",
    "elif view_type == \"diff\":  # set alpha: 0~1\n",
    "    diff(adj, alpha, data_name, view_name)"
   ]
  },
  {
   "cell_type": "code",
   "execution_count": 14,
   "metadata": {},
   "outputs": [
    {
     "name": "stdout",
     "output_type": "stream",
     "text": [
      "[[1.80281372e-01 2.15145022e-04 3.90613094e-04 ... 3.11782137e-04\n",
      "  2.60461789e-04 1.09814523e-04]\n",
      " [2.05599853e-04 1.00535064e-01 4.45352984e-04 ... 1.81407027e-04\n",
      "  1.73218913e-04 2.74846789e-04]\n",
      " [3.81311811e-04 4.52125979e-04 1.26917457e-01 ... 2.50314494e-04\n",
      "  1.97924141e-04 1.59994660e-04]\n",
      " ...\n",
      " [3.10597873e-04 1.84326073e-04 2.50340996e-04 ... 1.09049768e-01\n",
      "  1.30919100e-04 9.65088397e-05]\n",
      " [2.51877666e-04 1.74295523e-04 1.96315247e-04 ... 1.30275661e-04\n",
      "  1.07121062e-01 9.09608494e-05]\n",
      " [1.07269720e-04 2.75195580e-04 1.56684795e-04 ... 9.48182846e-05\n",
      "  8.94182186e-05 1.68294294e-01]]\n"
     ]
    }
   ],
   "source": [
    "import torch\n",
    "\n",
    "def get_khop_indices(k, view):\n",
    "    view = (view.A > 0).astype(\"int32\")\n",
    "    view_ = view\n",
    "    for i in range(1, k):\n",
    "        view_ = (np.matmul(view_, view.T)>0).astype(\"int32\")\n",
    "    view_ = torch.tensor(view_).to_sparse()\n",
    "    return view_.indices()\n",
    "    \n",
    "def topk(k, adj):\n",
    "    pos = np.zeros(adj.shape)\n",
    "    adj=adj.A\n",
    "    print(adj)\n",
    "\n",
    "    for i in range(len(adj)):\n",
    "      one = adj[i].nonzero()[0]\n",
    "      if len(one)>k:\n",
    "        oo = np.argsort(-adj[i, one])\n",
    "        sele = one[oo[:k]]\n",
    "        pos[i, sele] = adj[i, sele]\n",
    "      else:\n",
    "        pos[i, one] = adj[i, one]\n",
    "    return pos\n",
    "\n",
    "#####################\n",
    "## get k-hop scope ##\n",
    "## take citeseer   ##\n",
    "#####################\n",
    "adj = sp.load_npz(\"v1_knn.npz\")\n",
    "indice = get_khop_indices(2, adj)\n",
    "torch.save(indice, \"v1_2.pt\")\n",
    "\n",
    "\n",
    "#####################\n",
    "## get top-k scope ##\n",
    "## take citeseer   ##\n",
    "#####################\n",
    "adj = sp.load_npz(\"v2_diff.npz\")\n",
    "kn = topk(40, adj)\n",
    "kn = sp.coo_matrix(kn)\n",
    "indice = get_khop_indices(1, kn)\n",
    "torch.save(indice, \"v2_40.pt\")\n",
    "\n"
   ]
  },
  {
   "cell_type": "code",
   "execution_count": null,
   "metadata": {},
   "outputs": [],
   "source": []
  },
  {
   "cell_type": "code",
   "execution_count": null,
   "metadata": {},
   "outputs": [],
   "source": [
    "\n"
   ]
  },
  {
   "cell_type": "code",
   "execution_count": null,
   "metadata": {},
   "outputs": [],
   "source": []
  }
 ],
 "metadata": {
  "kernelspec": {
   "display_name": "Python 3.7.11 ('pyg')",
   "language": "python",
   "name": "python3"
  },
  "language_info": {
   "codemirror_mode": {
    "name": "ipython",
    "version": 3
   },
   "file_extension": ".py",
   "mimetype": "text/x-python",
   "name": "python",
   "nbconvert_exporter": "python",
   "pygments_lexer": "ipython3",
   "version": "3.7.11"
  },
  "orig_nbformat": 4,
  "vscode": {
   "interpreter": {
    "hash": "0fa3dc3e6290d9c3ddb80acf8355d8b7784237d19d97bf24d9b1ba8fe238dcf3"
   }
  }
 },
 "nbformat": 4,
 "nbformat_minor": 2
}